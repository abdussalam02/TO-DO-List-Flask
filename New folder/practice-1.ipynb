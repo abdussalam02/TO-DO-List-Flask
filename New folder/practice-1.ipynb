{
 "cells": [
  {
   "cell_type": "code",
   "execution_count": 16,
   "id": "e58963d9",
   "metadata": {},
   "outputs": [],
   "source": [
    "# Shallow and Deep Copy\n",
    "import copy\n",
    "a = [[2 , 8, 6],[9 , 58, 45]]\n",
    "b = copy.deepcopy(a)\n",
    "b[1][1] = 6\n",
    "b\n",
    "a"
   ]
  },
  {
   "cell_type": "code",
   "execution_count": 23,
   "id": "27f8e3a9",
   "metadata": {},
   "outputs": [
    {
     "name": "stdout",
     "output_type": "stream",
     "text": [
      "*  \n",
      "* *  \n",
      "* * *  \n",
      "* * * *  \n",
      "* * * * *  \n",
      "* * * * * *  \n",
      "* * * * * * *  \n",
      "* * * * * * * *  \n",
      "* * * * * * * * *  \n",
      "* * * * * * * * * *  \n"
     ]
    }
   ],
   "source": [
    "# Printing Patterns\n",
    "rows = 10\n",
    "for i in range(1, rows+1):\n",
    "    for j in range(1, i+1):\n",
    "        print(\"*\", end=\" \")\n",
    "    print(' ')"
   ]
  },
  {
   "cell_type": "code",
   "execution_count": 11,
   "id": "9c16349c",
   "metadata": {},
   "outputs": [
    {
     "name": "stdout",
     "output_type": "stream",
     "text": [
      "[1, 3, 4, 5, 6, 9, 54, 87]\n"
     ]
    }
   ],
   "source": [
    "# Insertion Sort\n",
    "a = [4, 9, 6, 54, 87, 1, 3, 5]\n",
    "\n",
    "for i in range(len(a)):\n",
    "    for j in range(i+1, len(a)):\n",
    "        if a[i] > a[j]:\n",
    "            a[i], a[j] = a[j], a[i]\n",
    "print(a)"
   ]
  },
  {
   "cell_type": "code",
   "execution_count": 25,
   "id": "6377018d",
   "metadata": {},
   "outputs": [
    {
     "name": "stdout",
     "output_type": "stream",
     "text": [
      "['even', 'odd', 'odd', 'even', 'odd', 'even']\n"
     ]
    }
   ],
   "source": [
    "# Number to Even Odd\n",
    "a = [2, 7, 5, 8, 1, 6]\n",
    "b = []\n",
    "for i in a:\n",
    "    if i % 2 == 0:\n",
    "        b.append(\"even\")\n",
    "    else:\n",
    "        b.append(\"odd\")\n",
    "            \n",
    "print(b)"
   ]
  },
  {
   "cell_type": "code",
   "execution_count": 42,
   "id": "c65a96b7",
   "metadata": {},
   "outputs": [
    {
     "data": {
      "text/plain": [
       "['Even', 'Odd', 'Odd', 'Even', 'Odd', 'Even']"
      ]
     },
     "execution_count": 42,
     "metadata": {},
     "output_type": "execute_result"
    }
   ],
   "source": [
    "# List Comprehension\n",
    "a = [2, 7, 5, 8, 1, 6]\n",
    "b = [\"Even\" if i%2==0 else \"Odd\" for i in a]\n",
    "b"
   ]
  },
  {
   "cell_type": "code",
   "execution_count": 41,
   "id": "43fe4257",
   "metadata": {},
   "outputs": [
    {
     "name": "stdout",
     "output_type": "stream",
     "text": [
      "['Even', 'Odd', 'Odd', 'Even', 'Odd', 'Even']\n"
     ]
    }
   ],
   "source": [
    "# Using Enumerate\n",
    "a = [2, 7, 5, 8, 1, 6]\n",
    "\n",
    "for i, v in enumerate(a):\n",
    "    if v % 2 == 0:\n",
    "        a[i] = \"Even\"\n",
    "    else:\n",
    "        a[i] = \"Odd\"\n",
    "        \n",
    "print(a)"
   ]
  },
  {
   "cell_type": "code",
   "execution_count": 61,
   "id": "68a24396",
   "metadata": {},
   "outputs": [
    {
     "data": {
      "text/plain": [
       "['Even', 'Odd', 'Odd', 'Even', 'Odd', 'Even']"
      ]
     },
     "execution_count": 61,
     "metadata": {},
     "output_type": "execute_result"
    }
   ],
   "source": [
    "a = [2, 7, 5, 8, 1, 6]\n",
    "b = list(map(lambda a: \"Even\" if a%2==0 else \"Odd\", a))\n",
    "b"
   ]
  },
  {
   "cell_type": "code",
   "execution_count": 60,
   "id": "70096537",
   "metadata": {},
   "outputs": [
    {
     "data": {
      "text/plain": [
       "['Even', 'Odd', 'Odd', 'Even', 'Odd', 'Even']"
      ]
     },
     "execution_count": 60,
     "metadata": {},
     "output_type": "execute_result"
    }
   ],
   "source": [
    "a = [2, 7, 5, 8, 1, 6]\n",
    "def fun(a):\n",
    "    if a%2==0:\n",
    "        return \"Even\"\n",
    "    else:\n",
    "        return \"Odd\"\n",
    "\n",
    "b = list(map(fun, a))\n",
    "b"
   ]
  },
  {
   "cell_type": "code",
   "execution_count": 19,
   "id": "4c96cd10",
   "metadata": {},
   "outputs": [
    {
     "name": "stdout",
     "output_type": "stream",
     "text": [
      "------------------------------------------------\n",
      "01 | 02 | 03 | 04 | 05 | 06 | 07 | 08 | 09 | 10 |  \n",
      "02 | 04 | 06 | 08 | 10 | 12 | 14 | 16 | 18 | 20 |  \n",
      "03 | 06 | 09 | 12 | 15 | 18 | 21 | 24 | 27 | 30 |  \n",
      "04 | 08 | 12 | 16 | 20 | 24 | 28 | 32 | 36 | 40 |  \n",
      "05 | 10 | 15 | 20 | 25 | 30 | 35 | 40 | 45 | 50 |  \n",
      "06 | 12 | 18 | 24 | 30 | 36 | 42 | 48 | 54 | 60 |  \n",
      "07 | 14 | 21 | 28 | 35 | 42 | 49 | 56 | 63 | 70 |  \n",
      "08 | 16 | 24 | 32 | 40 | 48 | 56 | 64 | 72 | 80 |  \n",
      "09 | 18 | 27 | 36 | 45 | 54 | 63 | 72 | 81 | 90 |  \n",
      "10 | 20 | 30 | 40 | 50 | 60 | 70 | 80 | 90 | 100| \n",
      "------------------------------------------------\n"
     ]
    }
   ],
   "source": [
    "# outer loop\n",
    "print(\"-\" *48)\n",
    "for i in range(1, 11):\n",
    "    for j in range(1, 11):\n",
    "        x = i*j\n",
    "        if x < 10:\n",
    "            x = \"0\" + str(x)\n",
    "            print(x, end = \" | \")\n",
    "        elif x > 99:\n",
    "            print(x, end= \"|\")\n",
    "        else:\n",
    "            print(x, end= \" | \")\n",
    "    print(\" \")\n",
    "print(\"-\" *48)"
   ]
  },
  {
   "cell_type": "code",
   "execution_count": 79,
   "id": "34a9b400",
   "metadata": {},
   "outputs": [
    {
     "name": "stdout",
     "output_type": "stream",
     "text": [
      "*** \n",
      "*** \n",
      "*** \n",
      "*** \n",
      "*** \n"
     ]
    }
   ],
   "source": [
    "num = 5\n",
    "for i in range(1, num+1):\n",
    "    for j in range(3):\n",
    "        print(\"*\", end=\"\")\n",
    "    print(' ')\n",
    "    "
   ]
  },
  {
   "cell_type": "code",
   "execution_count": 83,
   "id": "f142a722",
   "metadata": {},
   "outputs": [
    {
     "name": "stdout",
     "output_type": "stream",
     "text": [
      "Tell me about yourself\n",
      "It is a long established fact that a reader will be distracted by the readable content of a page when looking at its layout. The point of using Lorem Ipsum is that it has a more-or-less normal distribution of letters, as opposed to using 'Content here, content here', making it look like readable English. Many desktop publishing packages and web page editors now use Lorem Ipsum as their default model text, and a search for 'lorem ipsum' will uncover many web sites still in their infancy. Various versions have evolved over the years, sometimes by accident, sometimes on purpose (injected humour and the like).\n",
      "It is a long established fact that a reader will be distracted by the readable content of a page when looking at its layout. The point of using Lorem Ipsum is that it has a more-or-less normal distribution of letters, as opposed to using 'Content here, content here', making it look like readable English. Many desktop publishing packages and web page editors now use Lorem Ipsum as their default model text, and a search for 'lorem ipsum' will uncover many web sites still in their infancy. Various versions have evolved over the years, sometimes by accident, sometimes on purpose (injected humour and the like).\n",
      "\n",
      "\n",
      "\n",
      "Final text input\n",
      "<class 'str'>\n",
      "<class 'list'>\n"
     ]
    }
   ],
   "source": [
    "data = []\n",
    "print(\"Tell me about yourself\")\n",
    "while True:\n",
    "    line = input()\n",
    "    if line:\n",
    "        data.append(line)\n",
    "    else:\n",
    "        break\n",
    "finalText = '\\n'.join(data)\n",
    "print(\"\\n\")\n",
    "print(\"Final text input\")\n",
    "print(type(finalText))\n",
    "print(type(data))"
   ]
  },
  {
   "cell_type": "code",
   "execution_count": 5,
   "id": "9a8b51d2",
   "metadata": {},
   "outputs": [
    {
     "name": "stdout",
     "output_type": "stream",
     "text": [
      "Enter elements of a list separated by space 45 787 45 4 86 25 2 32\n",
      "\n",
      "\n",
      "list:  ['45', '787', '45', '4', '86', '25', '2', '32']\n",
      "[45, 787, 45, 4, 86, 25, 2, 32]\n"
     ]
    }
   ],
   "source": [
    "input_string = input('Enter elements of a list separated by space ')\n",
    "print(\"\\n\")\n",
    "user_list = input_string.split()\n",
    "# print list\n",
    "print('list: ', user_list)\n",
    "\n",
    "# convert each item to int type\n",
    "for i in range(len(user_list)):\n",
    "    # convert each item to int type\n",
    "    user_list[i] = int(user_list[i])\n",
    "\n",
    "# Calculating the sum of list elements\n",
    "print(user_list)"
   ]
  },
  {
   "cell_type": "code",
   "execution_count": 10,
   "id": "f2ace6d3",
   "metadata": {},
   "outputs": [
    {
     "name": "stdout",
     "output_type": "stream",
     "text": [
      "Enter the size of the list 8\n",
      "\n",
      "\n",
      "Enter the list items separated by space 45 787 45 4 86 25 2 32\n",
      "User list:  [45, 787, 45, 4, 86, 25, 2, 32]\n"
     ]
    }
   ],
   "source": [
    "n = int(input(\"Enter the size of the list \"))\n",
    "print(\"\\n\")\n",
    "num_list = list(int(num) for num in input(\"Enter the list items separated by space \").strip().split())[:n]\n",
    "\n",
    "print(\"User list: \", num_list)"
   ]
  },
  {
   "cell_type": "code",
   "execution_count": null,
   "id": "301252d2",
   "metadata": {},
   "outputs": [],
   "source": [
    "# Adding method in a class outside of a class\n",
    "# s1.welcome = types.MethodType(welcome, s1)"
   ]
  },
  {
   "cell_type": "code",
   "execution_count": 15,
   "id": "8d6d8d61",
   "metadata": {},
   "outputs": [
    {
     "name": "stdout",
     "output_type": "stream",
     "text": [
      "[5, 8, 'Tom', 26, 7.5, 9, [25, 75, 100]]\n"
     ]
    }
   ],
   "source": [
    "# List\n",
    "'''\n",
    "Mutable: The elements of the list can be modified. We can add or remove items to the list after it has been created.\n",
    "Ordered: Each item has a unique index value. \n",
    "Heterogenous: The list can contain different kinds of elements like string, integer, boolean, or any type.\n",
    "Duplicates: The list can contain duplicates i.e., lists can have two items with the same values.\n",
    "'''\n",
    "# List methods for mutating elements\n",
    "my_list = list([5, 8, 'Tom', 7.50])\n",
    "\n",
    "# Accessing using index\n",
    "my_list.index('Tom') # Returns the index of Tom\n",
    "my_list[2] # Access the value at index 2\n",
    "\n",
    "# Inserting methods\n",
    "my_list.append(9) # appends at the end of the list\n",
    "my_list.insert(3, 26) # uses index to insert the value insert(index, value)\n",
    "my_list.extend([32, [25, 75, 100]]) # appends multiple elements or sublists\n",
    "# Concatenation can be done with +\n",
    "\n",
    "# To remove items\n",
    "my_list.remove(26) # removes the first occurence\n",
    "my_list.pop() # removes element using index if provided else the last element \n",
    "\n",
    "# To empty the list\n",
    "my_list.clear() # Clears the list elements and returns an empty list\n",
    "\n",
    "# To delete the list\n",
    "del my_list # Deletes the list\n",
    "del my_list[3:] # Deletes the sliced element only\n",
    "\n",
    "# Sorting method\n",
    "my_list.sort()\n",
    "\n",
    "# Reversing a list\n",
    "my_list.reverse()\n",
    "\n",
    "# Maximum, Minimum, Sum, All, Any\n",
    "my_list.max() # Returns maximum numbers\n",
    "my_list.min() # Returns minimum numbers\n",
    "my_list.sum() # Returns the sum of all elements\n",
    "my_list.all() # Returns True if all value is > 0 | []\n",
    "my_list.any() # Returns if any value is True\n",
    "\n",
    "\n",
    "print(my_list)"
   ]
  },
  {
   "cell_type": "code",
   "execution_count": null,
   "id": "a1f5af87",
   "metadata": {},
   "outputs": [],
   "source": [
    "# Tuple\n",
    "'''\n",
    "Ordered: Tuples are part of sequence data types, which means they hold the order of the data insertion. It maintains the index value for each item.\n",
    "Immutable: Tuples are unchangeable, which means that we cannot add or delete items to the tuple after creation.\n",
    "Heterogeneous: Tuples are a sequence of data of different data types (like integer, float, list, string, etc;) and can be accessed through indexing and slicing.\n",
    "Duplicates: Tuples can contain duplicates, which means they can have items with the same value.\n",
    "'''\n",
    "Tuple = ('Aladdin',)\n",
    "my_tuple = (10, 20, 30, 40, 50, 10)\n",
    "\n",
    "# Finding the index of the element\n",
    "my_tuple.index(30) # index() accepts 3 arguments: item, optionals(start, stop)\n",
    "50 in my_tuple # Returns boolean\n",
    "\n",
    "# Modifying Tuple by typecasting\n",
    "# tuple to list > list to tuple\n",
    "\n",
    "# Counting element occurence \n",
    "my_list.count() # method accepts one value and returns the number of time it appears.\n",
    "\n",
    "# Deleting tuple\n",
    "del my_tuple\n",
    "\n",
    "# We can use sum(), chain(), and + to concatenate multiple tuples\n",
    "# Tuple supports packing and unpacking\n",
    "\n",
    "# Maximum, Minimum, All, Any\n",
    "my_tuple.max() # Returns maximum numbers\n",
    "my_tuple.min() # Returns minimum numbers\n",
    "my_tuple.all() # Returns True if all value is > 0 | []\n",
    "my_tuple.any() # Returns if any value is True\n"
   ]
  },
  {
   "cell_type": "code",
   "execution_count": null,
   "id": "8669ff1e",
   "metadata": {},
   "outputs": [],
   "source": [
    "# Definition of Sets\n",
    "'''\n",
    "Unordered: The items in the set are unordered, unlike lists, i.e., it will not maintain the order in which the items are inserted. The items will be in a different order each time when we access the Set object. There will not be any index value assigned to each item in the set.\n",
    "Immutable: Set items must be immutable. We cannot change the set items, i.e., We cannot modify the items’ value. But we can add or remove items to the Set. A set itself may be modified, but the elements contained in the set must be of an immutable type.\n",
    "Heterogeneous: Tuples are a sequence of data of different data types (like integer, float, list, string, etc;) and can be accessed through indexing and slicing.\n",
    "Unique: There cannot be two items with the same value in the set.\n",
    "'''\n",
    "\n",
    "book_set = {\"Harry Potter\", \"Angels and Demons\", \"Atlas Shrugged\"}\n",
    "\n",
    "# Accessing item in Set\n",
    "for book in book_set:\n",
    "    print(book)\n",
    "    \n",
    "# Inserting elements\n",
    "book_set.add('The God of Small Things') # To add single elements\n",
    "book_set.update(['Atlas Shrugged', 'Ulysses']) # Update to add more than one item\n",
    "\n",
    "# Removing Elements\n",
    "book_set.remove(\"Harry Potter\")\n",
    "book_set.discard(\"Angels and Demons\") # Removes without raising an error\n",
    "book_set.pop() # Randomly removes an item\n",
    "book_set.clear() # Removes all items\n",
    "\n",
    "# Deleting Set\n",
    "del book_set\n",
    "\n",
    "# Set Operations\n",
    "color_set = {'violet', 'indigo', 'blue', 'green', 'yellow'}\n",
    "remaining_colors = {'indigo', 'orange', 'red'}\n",
    "\n",
    "# Union Operations \n",
    "vibgyor_colors = color_set.union(remaining_colors) # using union() method\n",
    "vibgyor_colors = color_set | remaining_colors # using OR operator\n",
    "\n",
    "# Intersection Operations\n",
    "new_set = color_set.intersection(remaining_colors) # using intersection() method\n",
    "new_set = color_set & remaining_colors # using & Operator\n",
    "color_set.intersection_update(remaining_colors) # updates the original set with common elements \n",
    "\n",
    "# Difference Operations\n",
    "print(color_set - remaining_colors) # using '-' operator\n",
    "print(color_set.difference(remaining_colors)) # using difference() method\n",
    "color_set.difference_update(remaining_colors) # updates the original set with unique elements\n",
    "\n",
    "# Symmetric Operations \n",
    "unique_items = color_set ^ remaining_colors # using '^' operator\n",
    "unique_items2 = color_set.symmetric_difference(remaining_colors) # using symmetric_difference() method\n",
    "color_set.symmetric_difference_update(remaining_colors) # updates the original set with unique elements from both\n",
    "\n",
    "# Subset and Superset \n",
    "print(color_set2.issubset(color_set1)) # subset\n",
    "print(color_set2.issuperset(color_set1)) # superset\n",
    "\n",
    "# Disjoint\n",
    "print(color_set2.isdisjoint(color_set1))\n",
    "\n",
    "# Maximum, Minimum, Sum, All, Any\n",
    "color_set.max() # Returns maximum numbers\n",
    "color_set.min() # Returns minimum numbers\n",
    "color_set.all() # Returns True if all value is > 0 | []\n",
    "color_set.any() # Returns if any value is True\n",
    "\n",
    "# Frozenset\n",
    "# It is immutable in nature\n",
    "# All other properties are similar to Set\n",
    "\n",
    "rainbow = ('violet', 'indigo', 'blue', 'green', 'yellow', 'orange', 'red')\n",
    "f_set = frozenset(rainbow)\n"
   ]
  },
  {
   "cell_type": "code",
   "execution_count": 18,
   "id": "1c45b3fb",
   "metadata": {},
   "outputs": [
    {
     "data": {
      "text/plain": [
       "'\\nUnordered: The items in dictionaries are stored without any index value, which is typically a range of numbers. They are stored as Key-Value pairs, and the keys are their index, which will not be in any sequence.\\nUnique: As mentioned above, each value has a Key; the Keys in Dictionaries should be unique.  If we store any value with a Key that already exists, then the most recent value will replace the old value.\\nMutable: The dictionaries are collections that are changeable, which implies that we can add or remove items after the creation.\\n'"
      ]
     },
     "execution_count": 18,
     "metadata": {},
     "output_type": "execute_result"
    }
   ],
   "source": [
    "# Dictionaries\n",
    "'''\n",
    "Unordered: The items in dictionaries are stored without any index value, which is typically a range of numbers. They are stored as Key-Value pairs, and the keys are their index, which will not be in any sequence.\n",
    "Unique: As mentioned above, each value has a Key; the Keys in Dictionaries should be unique.  If we store any value with a Key that already exists, then the most recent value will replace the old value.\n",
    "Heterogeneous: Dictionaries are a sequence of data of different data types (like integer, float, list, string, etc;) and can be accessed through indexing and slicing.\n",
    "Mutable: The dictionaries are collections that are changeable, which implies that we can add or remove items after the creation.\n",
    "'''\n",
    "\n",
    "person = {\"name\": \"Jessa\", \"country\": \"USA\", \"telephone\": 1178}\n",
    "\n",
    "# Accesing elements\n",
    "print(person['name']) # raises keyerror if key not present \n",
    "print(person.get('telephone')) # raises None if key not present\n",
    "print(person.keys()) # returns all keys present\n",
    "print(person.values()) # returns all values present\n",
    "print(person.items()) # returns all elements in key value pair\n",
    "\n",
    "# Inserting elements\n",
    "person[\"weight\"] = 50 # assignment method\n",
    "person.update({\"height\": 6}) # update() method to add multiple key:value pairs\n",
    "person.update([(\"city\", \"Texas\"), (\"company\", \"Google\",)])\n",
    "\n",
    "# Removing elements\n",
    "person.popitem() # Removes the last inserted item\n",
    "person.pop('telephone') # Removes element using key\n",
    "del person['weight'] # Deletes element in bracket\n",
    "person.clear() # Removes all the elements \n",
    "\n",
    "# Deleting Dictionaries \n",
    "del person # Deletes the whole dictionary\n",
    "\n",
    "# Adding dictionaries\n",
    "dict1.update(dict2) # Joining 2 dictionaries\n",
    "student_dict = {**student_dict1, **student_dict2, **student_dict3} # Joining multiple container\n",
    "# If both the dictionaries have common keys, the value of first dictionary will be overriden with second\n",
    "\n",
    "\n",
    "# Maximum, Minimum, Sum, All, Any\n",
    "person.max() # Returns maximum numbers\n",
    "person.min() # Returns minimum numbers\n",
    "person.all() # Returns True if all value is > 0 | []\n",
    "person.any() # Returns if any value is True"
   ]
  },
  {
   "cell_type": "code",
   "execution_count": 4,
   "id": "b2c69b19",
   "metadata": {},
   "outputs": [
    {
     "ename": "FileNotFoundError",
     "evalue": "[Errno 2] No such file or directory: 'filename'",
     "output_type": "error",
     "traceback": [
      "\u001b[1;31m---------------------------------------------------------------------------\u001b[0m",
      "\u001b[1;31mFileNotFoundError\u001b[0m                         Traceback (most recent call last)",
      "Cell \u001b[1;32mIn [4], line 23\u001b[0m\n\u001b[0;32m     20\u001b[0m y \u001b[38;5;241m=\u001b[39m json\u001b[38;5;241m.\u001b[39mloads(a)\n\u001b[0;32m     22\u001b[0m \u001b[38;5;66;03m# This will convert the csv file into JSON type\u001b[39;00m\n\u001b[1;32m---> 23\u001b[0m z \u001b[38;5;241m=\u001b[39m \u001b[43mjsonify\u001b[49m\u001b[38;5;241;43m.\u001b[39;49m\u001b[43mconvert\u001b[49m\u001b[38;5;241;43m.\u001b[39;49m\u001b[43mjsonify\u001b[49m\u001b[43m(\u001b[49m\u001b[38;5;124;43m\"\u001b[39;49m\u001b[38;5;124;43mfilename\u001b[39;49m\u001b[38;5;124;43m\"\u001b[39;49m\u001b[43m)\u001b[49m\n\u001b[0;32m     25\u001b[0m \u001b[38;5;28mprint\u001b[39m(z)\n\u001b[0;32m     26\u001b[0m \u001b[38;5;28mprint\u001b[39m(\u001b[38;5;28mtype\u001b[39m(z))\n",
      "File \u001b[1;32m~\\AppData\\Local\\Programs\\Python\\Python310\\lib\\site-packages\\jsonify\\convert.py:7\u001b[0m, in \u001b[0;36mjsonify\u001b[1;34m(csv_name)\u001b[0m\n\u001b[0;32m      6\u001b[0m \u001b[38;5;28;01mdef\u001b[39;00m \u001b[38;5;21mjsonify\u001b[39m(csv_name):\n\u001b[1;32m----> 7\u001b[0m     \u001b[38;5;28;01mwith\u001b[39;00m \u001b[38;5;28;43mopen\u001b[39;49m\u001b[43m(\u001b[49m\u001b[43mcsv_name\u001b[49m\u001b[43m,\u001b[49m\u001b[43m \u001b[49m\u001b[38;5;124;43m'\u001b[39;49m\u001b[38;5;124;43mr\u001b[39;49m\u001b[38;5;124;43m'\u001b[39;49m\u001b[43m)\u001b[49m \u001b[38;5;28;01mas\u001b[39;00m f:\n\u001b[0;32m      8\u001b[0m         data \u001b[38;5;241m=\u001b[39m []\n\u001b[0;32m      9\u001b[0m         reader \u001b[38;5;241m=\u001b[39m csv\u001b[38;5;241m.\u001b[39mDictReader(f)\n",
      "\u001b[1;31mFileNotFoundError\u001b[0m: [Errno 2] No such file or directory: 'filename'"
     ]
    }
   ],
   "source": [
    "'''\n",
    "dump =\n",
    "dumps = Python object to Json string\n",
    "loads = Json strings to Python object\n",
    "stringify = json object to json string\n",
    "jsonify = converts csv file into JSON\n",
    "parse = json string to json object\n",
    "'''\n",
    "\n",
    "import json\n",
    "from jsonify import convert\n",
    "\n",
    "\n",
    "a = '[{\"name\": \"Aladdin\"}, {\"phone\": 7977646886}, {\"city\": \"Thane\"}]'\n",
    "\n",
    "# This will convert the python object into str \n",
    "m = json.dumps(a)\n",
    "\n",
    "# This will convert the json object into python object (list)\n",
    "n = json.loads(a)\n",
    "\n",
    "# This will convert json string to json object\n",
    "o = json.parse(a)\n",
    "\n",
    "# This will convert json object to json string\n",
    "p = json.stringify(o)\n",
    "\n",
    "# This will convert the csv file into JSON type\n",
    "z = convert.jsonify(\"filename\")\n",
    "print(\"Successful\")\n"
   ]
  },
  {
   "cell_type": "code",
   "execution_count": 26,
   "id": "30ef4378",
   "metadata": {},
   "outputs": [
    {
     "name": "stdout",
     "output_type": "stream",
     "text": [
      "Aladdin\n",
      "Aladdin's Detail: ,Aladdin,19,5.5\n"
     ]
    }
   ],
   "source": [
    "# Classes and Objects\n",
    "\"\"\"\n",
    "Class: The class is a user-defined data structure that binds the data members and methods into a single unit. \n",
    "\n",
    "Objects: An object is an instance of a class. It is a collection of attributes (variables) and methods.\n",
    "         We use the object of a class to perform actions.\n",
    "\n",
    "Attributes(states) are of two types: \n",
    "1) Instance variable: It is initialized inside construct or any methods\n",
    "2) Class variable: It is initialized inside class but out of any method scope\n",
    "\n",
    "Methods(behaviours) are of three types\n",
    "1) Instance method: It accesses and modifies Instance variable and it varies object to object\n",
    "2) Class Method: It accesses and modifies class variable and it is same for every objects\n",
    "3) Static Method: It can't access any class attributes. It performs its task in isolation.\n",
    "\n",
    "\"\"\"\n",
    "# This is a class initialization\n",
    "class Aladdin(object): # class Aladdin: simplified way but works same\n",
    "    \n",
    "    x = 1 # This is a class variable\n",
    "    \n",
    "    # This is a constructor\n",
    "    def __init__(self, age):\n",
    "        self.name = \"Aladdin\" # This is instance variable with default value\n",
    "        self.age = age # This is also an instance variable using parameter\n",
    "    \n",
    "    # This is an instance method with no parameters\n",
    "    def nothing(self):\n",
    "        weight = 56\n",
    "        print(\"Aladdin's weight:\", weight)\n",
    "        \n",
    "    # This is an instance method with parameter\n",
    "    def show(self, height):\n",
    "        print(\"Aladdin's Detail: \", self.name, self.age, height, sep=\",\")\n",
    "        \n",
    "        \n",
    "    # This is a static method\n",
    "    @staticmethod\n",
    "    def display():\n",
    "        pass\n",
    "    \n",
    "    # This is a class method\n",
    "    @classmethod\n",
    "    def value_update(cls, y):\n",
    "        cls.x = y\n",
    "        \n",
    "assign = Aladdin(19) # Insatiation of object to a class() with a parameter for construct\n",
    "\n",
    "print(assign.name) # calling instance attribute\n",
    "\n",
    "assign.display() # calling a method\n",
    "\n",
    "assign.show(5.5) # calling a method with parameters\n",
    "\n",
    "del assign.name # deleting object properties\n",
    "\n",
    "del assign # deleting object\n",
    "       "
   ]
  },
  {
   "cell_type": "code",
   "execution_count": 22,
   "id": "ddbf68fe",
   "metadata": {},
   "outputs": [
    {
     "data": {
      "text/plain": [
       "'Aladdin wants to cry'"
      ]
     },
     "execution_count": 22,
     "metadata": {},
     "output_type": "execute_result"
    }
   ],
   "source": [
    "\"\"\"\n",
    "Constructor is a special method used to create and initialize an object of a class\n",
    "\n",
    "There are three types of constructor\n",
    "1) Default Constructor: Python will provide default constructor, if no constructor is provided\n",
    "2) Non Parameterized: The constructor wil not contain any parameters\n",
    "3) Parameterized: The constructer will contain parameters, we can pass default values in parameters too.\n",
    "\n",
    "Constructor Overloading: Constructor overloading is a concept of having more than one constructor with different parameters\n",
    "                         Python doesn't support constructor overloading.\n",
    "                         \n",
    "Constructor Chaining: It's the process of calling one constructor from another constructor.\n",
    "                      It's convenient when we are dealing with inheritance.\n",
    "                      \n",
    "/***************************************************************/\n",
    "Destructor is a special method that is called when an object gets destroyed.\n",
    "It is used to perform the clean-up activity before destroying the object, such as closing database connections or filehandle.\n",
    "\n",
    "Cases when destructor doesn't work correctly\n",
    "1) In circular referencing occurs when two objects refer to each other.\n",
    "2) Exception: In OOP, if any exception occurs in the constructor while initializing the object, constructor destroys the object.\n",
    "\"\"\"\n",
    "\n",
    "# This is an example of constructor chaining\n",
    "class Vehicle:\n",
    "    # Constructor of Vehicle\n",
    "    def __init__(self, engine):\n",
    "        print('Inside Vehicle Constructor')\n",
    "        self.engine = engine\n",
    "        \n",
    "    # Constructor Overlading\n",
    "    def __init__(self, engine, make):\n",
    "        print('Inside Vehicle Constructor')\n",
    "        self.engine = enginemakeup \n",
    "\n",
    "# This is an example of Inheritance\n",
    "class Car(Vehicle):\n",
    "    # Constructor of Car\n",
    "    def __init__(self, engine, max_speed):\n",
    "        super().__init__(engine)\n",
    "        print('Inside Car Constructor')\n",
    "        self.max_speed = max_speed\n",
    "        \n",
    "    # destructor\n",
    "    def __del__(self):\n",
    "        print('Inside destructor')\n",
    "        print('Object destroyed')\n",
    "\n",
    "class Electric_Car(Car):\n",
    "    # Constructor of Electric Car\n",
    "    def __init__(self, engine, max_speed, km_range):\n",
    "        super().__init__(engine, max_speed)\n",
    "        print('Inside Electric Car Constructor')\n",
    "        self.km_range = km_range\n",
    "\n",
    "# Object of electric car\n",
    "ev = Electric_Car('1500cc', 240, 750)\n",
    "print(f'Engine={ev.engine}, Max Speed={ev.max_speed}, Km range={ev.km_range}')\n",
    "\n",
    "# calling destructor\n",
    "dest = Car()\n",
    "del dest"
   ]
  },
  {
   "cell_type": "code",
   "execution_count": 38,
   "id": "b041496a",
   "metadata": {},
   "outputs": [
    {
     "data": {
      "text/plain": [
       "({'a': 10, 'b': 20, 'c': 40}, dict)"
      ]
     },
     "execution_count": 38,
     "metadata": {},
     "output_type": "execute_result"
    }
   ],
   "source": [
    "# This is *args \n",
    "# It alllows multiple parameters and stores it in tuple data type\n",
    "def aladdin(*a):\n",
    "    a = list(a)\n",
    "    add = a+a\n",
    "    print(type(add))\n",
    "    \n",
    "    return add\n",
    "\n",
    "aladdin([1,2],[2,4])\n",
    "\n",
    "# This is **kwargs\n",
    "# It allows multiple parameters in key value form and stores it in a dictionary  \n",
    "def salam(**kwargs):\n",
    "    return kwargs, type(kwargs)\n",
    "\n",
    "salam(a=10, b=20, c=40)"
   ]
  },
  {
   "cell_type": "code",
   "execution_count": 57,
   "id": "ea0e8421",
   "metadata": {},
   "outputs": [
    {
     "name": "stdout",
     "output_type": "stream",
     "text": [
      "M\n"
     ]
    },
    {
     "data": {
      "text/plain": [
       "6"
      ]
     },
     "execution_count": 57,
     "metadata": {},
     "output_type": "execute_result"
    }
   ],
   "source": [
    "\"\"\"\n",
    "Encapsulation\n",
    "Encapsulation is used to bundle data members and methods within a single unit, a fine example of encapsulation is class().\n",
    "\n",
    "There are three access modifiers\n",
    "1) Public: Public variable can be accessed anywhere in the code\n",
    "2) Protected: Protected variable can be accessed within the class and sub-class.\n",
    "3) Private: Private variable can only be accessed within a class.\n",
    "\n",
    "Advantages of encapsulation\n",
    "1) Security: The main advantage of using encapsulation is the security of the data. Encapsulation protects an object from unauthorized access.\n",
    "2) Data Hiding: The user would not know what's going behind the scene. They will only be knowing that to modify a data member,\n",
    "call the setter method. To read a data member, call the getter method. What these setter and getter methods are doing is hidden from them.\n",
    "3) Simplicity: It simplifies the maintenance of the application by keeping classes separated and preventing them from tightly coupling with each other.\n",
    "4) Aesthetics: Bundling data and methods within a class makes code more readable and maintainable\n",
    "\"\"\"\n",
    "class Aladdin():\n",
    "    x = 1\n",
    "    def __init__(self, name, age, gender):\n",
    "        self.name = name\n",
    "        self._age = age # This is a private variable\n",
    "        self.__gender = gender # This is a protected variable\n",
    "        \n",
    "    def nothing(self):\n",
    "        print(self.__gender)\n",
    "        \n",
    "    @classmethod\n",
    "    def something(cls, y):\n",
    "        cls.x = y\n",
    "    \n",
    "a =  Aladdin(\"Salam\", 19, \"M\")\n",
    "\n",
    "a.name\n",
    "a._age # calling Protected instance\n",
    "a._Aladdin__gender # calling private instance using name mangling method\n",
    "\n",
    "a.nothing() # calling a method without parameters \n",
    "\n",
    "a.something(6)\n",
    "a.x\n"
   ]
  },
  {
   "cell_type": "code",
   "execution_count": 3,
   "id": "2416ad16",
   "metadata": {},
   "outputs": [
    {
     "name": "stdout",
     "output_type": "stream",
     "text": [
      "Details: Car x1 Red 20000\n",
      "Car max speed is 240\n",
      "Car change 7 gear\n",
      "Details: Truck x1 white 75000\n"
     ]
    },
    {
     "ename": "TypeError",
     "evalue": "Vehicle.max_speed() missing 1 required positional argument: 'a'",
     "output_type": "error",
     "traceback": [
      "\u001b[1;31m---------------------------------------------------------------------------\u001b[0m",
      "\u001b[1;31mTypeError\u001b[0m                                 Traceback (most recent call last)",
      "Cell \u001b[1;32mIn [3], line 58\u001b[0m\n\u001b[0;32m     56\u001b[0m vehicle\u001b[38;5;241m.\u001b[39mshow()\n\u001b[0;32m     57\u001b[0m \u001b[38;5;66;03m# calls method from a Vehicle class\u001b[39;00m\n\u001b[1;32m---> 58\u001b[0m \u001b[43mvehicle\u001b[49m\u001b[38;5;241;43m.\u001b[39;49m\u001b[43mmax_speed\u001b[49m\u001b[43m(\u001b[49m\u001b[43m)\u001b[49m\n\u001b[0;32m     59\u001b[0m vehicle\u001b[38;5;241m.\u001b[39mchange_gear()\n",
      "\u001b[1;31mTypeError\u001b[0m: Vehicle.max_speed() missing 1 required positional argument: 'a'"
     ]
    }
   ],
   "source": [
    "\"\"\"\n",
    "Polymorphism\n",
    "Polymorphism is the ability of an object to perform the same action in many different ways.\n",
    "In polymorphism, a method can process objects differently depending upon the class type or data type. len() is a fine example of polymorphism\n",
    "It is mainly used with inheritance and we can override builtin functions too\n",
    "\n",
    "Method Overloading: The process of calling the same method with different parameters is known as method overloading.\n",
    "                    Python does not support method overloading. Python considers the last defined method even if you overload the method.\n",
    "Method Overriding: When method name of parent and child class are same but they perform different functionality then it is known as method overloading.\n",
    "\"\"\"\n",
    "\n",
    "class Vehicle:\n",
    "    x = 0\n",
    "    def __init__(self, name, color, price):\n",
    "        self.name = name\n",
    "        self.color = color\n",
    "        self.price = price\n",
    "\n",
    "    def show(self):\n",
    "        print('Details:', self.name, self.color, self.price)\n",
    "\n",
    "    def max_speed(a):\n",
    "        print('Vehicle max speed is 150')\n",
    "\n",
    "    def change_gear(self):\n",
    "        print('Vehicle change 6 gear')\n",
    "\n",
    "\n",
    "# inherit from vehicle class\n",
    "class Car(Vehicle):\n",
    "    \n",
    "    def __init__(self, name, color, price, make):\n",
    "        super().__init__(name, color, price)\n",
    "        self.make = make    \n",
    "    \n",
    "    def max_speed(self):\n",
    "        print('Car max speed is 240')\n",
    "\n",
    "    def change_gear(self):\n",
    "        print('Car change 7 gear')\n",
    "\n",
    "\n",
    "# Car Object\n",
    "car = Car('Car x1', 'Red', 20000, 'audi')\n",
    "car.show()\n",
    "# calls methods from Car class\n",
    "car.max_speed()\n",
    "car.change_gear()\n",
    "\n",
    "# Vehicle Object\n",
    "vehicle = Vehicle('Truck x1', 'white', 75000)\n",
    "vehicle.show()\n",
    "# calls method from a Vehicle class\n",
    "vehicle.max_speed()\n",
    "vehicle.change_gear()"
   ]
  },
  {
   "cell_type": "code",
   "execution_count": 14,
   "id": "55b4786a",
   "metadata": {},
   "outputs": [
    {
     "name": "stdout",
     "output_type": "stream",
     "text": [
      "Petrol\n",
      "Max speed 350\n",
      "Diesel\n",
      "Max speed is 240\n"
     ]
    }
   ],
   "source": [
    "\"\"\"\n",
    "Inheritance\n",
    "The proceess of inheriting the properties of parents class by child class is known as inheritance. The main purpose of inheritance\n",
    "is reusability of code because we can use the existing class to create a new class.\n",
    "Also, a child class can also provide its specific implementation to the methods of the parent class.\n",
    "\n",
    "Types of Inheritance \n",
    "1) Single: When a single child class inherits from single parent class it is known as single inheritance.\n",
    "2) Multiple: When a child class inherits from multipl parent class is know as multiple inheritance\n",
    "3) Multilevel: When a child class inherits from another child class or a class derieved from parent class is known as multilevel\n",
    "4) Hierarchical: When multiple child class inherits from a single parent class it is known as hierarchial inheritance\n",
    "5) Hybrid: When all or most of the condition above is met it is called as hybrid inheritance\n",
    "\"\"\""
   ]
  },
  {
   "cell_type": "code",
   "execution_count": 1,
   "id": "83d23725",
   "metadata": {},
   "outputs": [
    {
     "name": "stdout",
     "output_type": "stream",
     "text": [
      "[12.5, 10, 7, 6.2, True, False]\n"
     ]
    }
   ],
   "source": [
    "a = [10, 12.5, True, False, 6.2, 7]\n",
    "a.sort()\n",
    "a.reverse()\n",
    "print(a)"
   ]
  },
  {
   "cell_type": "code",
   "execution_count": null,
   "id": "84bec99f",
   "metadata": {},
   "outputs": [],
   "source": []
  }
 ],
 "metadata": {
  "kernelspec": {
   "display_name": "Python 3 (ipykernel)",
   "language": "python",
   "name": "python3"
  },
  "language_info": {
   "codemirror_mode": {
    "name": "ipython",
    "version": 3
   },
   "file_extension": ".py",
   "mimetype": "text/x-python",
   "name": "python",
   "nbconvert_exporter": "python",
   "pygments_lexer": "ipython3",
   "version": "3.10.7"
  }
 },
 "nbformat": 4,
 "nbformat_minor": 5
}
